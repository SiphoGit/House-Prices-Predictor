{
  "cells": [
    {
      "cell_type": "code",
      "execution_count": 165,
      "metadata": {
        "id": "YI9TBHt-rFN-"
      },
      "outputs": [],
      "source": [
        "# Imported models\n",
        "import pandas as pd\n",
        "from sklearn.linear_model import LinearRegression\n",
        "from sklearn.preprocessing import StandardScaler \n",
        "import matplotlib.pyplot as plt"
      ]
    },
    {
      "cell_type": "code",
      "execution_count": 261,
      "metadata": {
        "id": "lXSAWc9krFOC"
      },
      "outputs": [],
      "source": [
        "def inputs():\n",
        "\n",
        "  # Loads data and returns independent variables\n",
        "  # Converts 'No sea view' and 'Sea view' to 0s and 1s, respectively\n",
        "  data = pd.read_csv('real_estate_price_size_year_view.csv')\n",
        "  data['view'] = data['view'].apply(lambda x: 0 if x=='No sea view' else 1)\n",
        "  size_year = data[['size', 'year', 'view']]\n",
        "  return size_year"
      ]
    },
    {
      "cell_type": "code",
      "execution_count": 255,
      "metadata": {
        "id": "nQpPk5ZMrFOF"
      },
      "outputs": [],
      "source": [
        "def targets():\n",
        "\n",
        "  # Loads data and returns dependent variables\n",
        "  data = pd.read_csv('real_estate_price_size_year_view.csv')\n",
        "  price = data['price']\n",
        "  return price"
      ]
    },
    {
      "cell_type": "code",
      "source": [
        "def feature_scaling(size_year):\n",
        "\n",
        "  # Scales and transforms inputs\n",
        "  scaler = StandardScaler()\n",
        "  scaler.fit(size_year)\n",
        "  size_year_scaled = scaler.transform(size_year)\n",
        "  return size_year_scaled"
      ],
      "metadata": {
        "id": "vjEqRFSEZpj1"
      },
      "execution_count": 256,
      "outputs": []
    },
    {
      "cell_type": "code",
      "execution_count": 257,
      "metadata": {
        "id": "uhKpGvjPrFOR"
      },
      "outputs": [],
      "source": [
        "def get_regression(size_year_scaled, price):\n",
        "\n",
        "  # Trains the model\n",
        "  reg = LinearRegression()\n",
        "  regression = reg.fit(size_year_scaled, price)\n",
        "  return reg"
      ]
    },
    {
      "cell_type": "code",
      "source": [
        "def scatter_plt(size_year_scaled, price, reg):\n",
        "  \n",
        "  # Predicts and plots predicted values against actual values.\n",
        "  predicted_price = reg.predict(size_year_scaled)\n",
        "  plt.scatter(price, predicted_price)\n",
        "\n",
        "  # x-axis and y-axis labels\n",
        "  plt.xlabel('Actual House Prices', size=13)\n",
        "  plt.ylabel('Predictioned House Prices', size=13)\n",
        "\n",
        "  # Displaying the title\n",
        "  plt.title(\"Actual House Prices vs Predicted Prices\", size=15)\n",
        "  plt.show()"
      ],
      "metadata": {
        "id": "M5t8oCILGaMw"
      },
      "execution_count": 258,
      "outputs": []
    },
    {
      "cell_type": "code",
      "execution_count": 259,
      "metadata": {
        "id": "Bk5qSLd1rFOU"
      },
      "outputs": [],
      "source": [
        "def r_squared(size_year_scaled, price, reg):\n",
        "\n",
        "  # Calculates and prints R-squared\n",
        "  variability = ((reg.score(size_year_scaled, price))*100).round(2)\n",
        "  print(f'''\\n  R-squared = {variability}%\n",
        "  The model explains {variability}% of the variability of the data''')"
      ]
    },
    {
      "cell_type": "code",
      "source": [
        "def main():\n",
        "\n",
        "  # Executes the program by calling all the functions\n",
        "  size_year = inputs()\n",
        "  price = targets()\n",
        "  size_year_scaled = feature_scaling(size_year)\n",
        "  reg = get_regression(size_year_scaled, price)\n",
        "  scatter_plt(size_year_scaled, price, reg)\n",
        "  r_squared(size_year_scaled, price, reg)\n",
        "  \n",
        "main()"
      ],
      "metadata": {
        "colab": {
          "base_uri": "https://localhost:8080/",
          "height": 355
        },
        "id": "gPPKOIBobDCr",
        "outputId": "9a2e3758-f4f6-40ef-e3d8-314bfa8d16d9"
      },
      "execution_count": 260,
      "outputs": [
        {
          "output_type": "display_data",
          "data": {
            "text/plain": [
              "<Figure size 432x288 with 1 Axes>"
            ],
            "image/png": "[encoded data removed]"
          },
          "metadata": {}
        },
        {
          "output_type": "stream",
          "name": "stdout",
          "text": [
            "\n",
            "  R-squared = 91.29%\n",
            "  The model explains 91.29% of the variability of the data\n"
          ]
        }
      ]
    }
  ],
  "metadata": {
    "kernelspec": {
      "display_name": "Python 3",
      "language": "python",
      "name": "python3"
    },
    "language_info": {
      "codemirror_mode": {
        "name": "ipython",
        "version": 3
      },
      "file_extension": ".py",
      "mimetype": "text/x-python",
      "name": "python",
      "nbconvert_exporter": "python",
      "pygments_lexer": "ipython3",
      "version": "3.7.9"
    },
    "colab": {
      "provenance": []
    }
  },
  "nbformat": 4,
  "nbformat_minor": 0
}